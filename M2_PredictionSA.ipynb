{
 "cells": [
  {
   "cell_type": "code",
   "execution_count": 1,
   "metadata": {},
   "outputs": [],
   "source": [
    "import os\n",
    "import numpy as np\n",
    "import pandas as pd\n",
    "import time\n",
    "import matplotlib.pyplot as plt\n",
    "from scipy.stats import spearmanr\n",
    "import xgboost as xgb\n",
    "from sklearn.metrics import matthews_corrcoef as mcc\n",
    "from scipy.stats.stats import pearsonr\n",
    "from sklearn.decomposition import PCA\n",
    "import sklearn.metrics as metrics\n",
    "from sklearn.metrics import *\n",
    "from sklearn.neural_network import MLPClassifier, MLPRegressor\n",
    "from sklearn.ensemble import RandomForestRegressor, GradientBoostingRegressor,AdaBoostRegressor\n",
    "from sklearn.ensemble import RandomForestClassifier, GradientBoostingClassifier\n",
    "from sklearn.svm import SVC, SVR\n",
    "from sklearn.feature_selection import *\n",
    "from sklearn.model_selection import GridSearchCV, StratifiedKFold, KFold\n",
    "from sklearn.neighbors import LocalOutlierFactor\n",
    "from sklearn import preprocessing\n",
    "import pickle\n",
    "import warnings\n",
    "warnings.simplefilter(action='ignore')\n",
    "from imblearn.combine import SMOTETomek\n",
    "OUT_DIR = \"output/results/\"\n",
    "r = 6282019\n",
    "is_clf = 0\n",
    "\n",
    "\n",
    "filename='data/jordyn_sarah_lefamily_1000.pickle'\n",
    "df = pd.read_pickle(\"data/jordyn_sarah.pkl\")\n",
    "y = df[[\"crawl_id\", \"snapshot_id\"]]\n",
    "y = y.drop_duplicates()\n",
    "snap_crawl_dict = pd.Series(y.snapshot_id.values,index=y.crawl_id).to_dict()\n",
    "def getSnapshotId(x):\n",
    "    return snap_crawl_dict[x]\n",
    "\n",
    "df_mitre = pd.read_csv(\"data/Mitre.csv\")\n",
    "df_mitre[\"created_date\"] = pd.to_datetime(df_mitre.Date,format='%m/%d/%Y',errors='coerce').dt.date"
   ]
  },
  {
   "cell_type": "code",
   "execution_count": 3,
   "metadata": {
    "scrolled": true
   },
   "outputs": [
    {
     "data": {
      "text/plain": [
       "((882, 156),\n",
       " Index(['crawl_id', 'created_date', 'posts', 'positive_affect',\n",
       "        'negative_affect', 'anger', 'anxiety', 'sadness', 'swear',\n",
       "        'cognitive_mech',\n",
       "        ...\n",
       "        '94', '95', '96', '97', '98', '99', '100', 'snapshot_id', 'anxiety.d',\n",
       "        'stress.d'],\n",
       "       dtype='object', length=156))"
      ]
     },
     "execution_count": 3,
     "metadata": {},
     "output_type": "execute_result"
    }
   ],
   "source": [
    "filename='data/features1.pickle'\n",
    "# filename='data/jordyn_sarah_lefamily.pickle'\n",
    "filename='data/jordyn_sarah_SA.pickle' #this file has mitre merged already\n",
    "# filename = 'data/7days_100.pkl'\n",
    "with open(filename, 'rb') as f:\n",
    "    df = pickle.load(f)\n",
    "df = df.drop([\"life_event_yes_no\"],axis=1)\n",
    "df['snapshot_id'] = df['crawl_id'].apply(lambda x : getSnapshotId(x))\n",
    "# df = df.dropna(subset=['anxiety.d'])\n",
    "# df=df[:100]\n",
    "df.shape,df.columns"
   ]
  },
  {
   "cell_type": "code",
   "execution_count": 4,
   "metadata": {},
   "outputs": [
    {
     "data": {
      "text/plain": [
       "((879, 156),\n",
       " Index(['crawl_id', 'created_date', 'posts', 'positive_affect',\n",
       "        'negative_affect', 'anger', 'anxiety', 'sadness', 'swear',\n",
       "        'cognitive_mech',\n",
       "        ...\n",
       "        '94', '95', '96', '97', '98', '99', '100', 'snapshot_id', 'anxiety.d',\n",
       "        'stress.d'],\n",
       "       dtype='object', length=156))"
      ]
     },
     "execution_count": 4,
     "metadata": {},
     "output_type": "execute_result"
    }
   ],
   "source": [
    "df_labels = [\"snapshot_id\", \"created_date\",\"anxiety.d\",\"stress.d\"]\n",
    "# df = pd.merge(df,df_mitre[df_labels],on=['snapshot_id','created_date'],how='inner')\n",
    "df = df.dropna(subset=['anxiety.d'])\n",
    "df = df.dropna(subset=['stress.d'])\n",
    "df.shape,df.columns\n"
   ]
  },
  {
   "cell_type": "code",
   "execution_count": 5,
   "metadata": {},
   "outputs": [],
   "source": [
    "# df[\"stress.d\"].isna().sum()\n",
    "# df[\"stress\"] = 0\n",
    "# df[\"anxiety\"] = 0\n",
    "# # df[\"stress\"].loc(df[\"stress.d\"]>3.0) = 1\n",
    "# # df[df[\"anxiety.d\"]>3.0][\"anxiety\"] = 1\n",
    "# df.loc[df['stress.d'] >2.0, 'stress']  = 1\n",
    "# df.loc[df['anxiety.d'] >2.0, 'anxiety']  = 1"
   ]
  },
  {
   "cell_type": "code",
   "execution_count": 6,
   "metadata": {},
   "outputs": [],
   "source": [
    "# df[df[\"stress.d\"]==2.0][\"stress\"] "
   ]
  },
  {
   "cell_type": "code",
   "execution_count": 7,
   "metadata": {},
   "outputs": [],
   "source": [
    "def get_fold(n_records, n_folds, fold):\n",
    "    import random\n",
    "    random.seed(1000)\n",
    "    np.random.seed(1000)\n",
    "    splits = []\n",
    "    for i in range(n_folds):\n",
    "        a = np.random.choice(n_records, n_records,replace=False)\n",
    "        splits.append([a[:int(0.8*n_records)],a[int(0.8*n_records):]])\n",
    "    return splits[fold]\n",
    "\n",
    "def smape(A, F):\n",
    "    d = np.abs(A) + np.abs(F)\n",
    "    return (100.0/len(A)) * np.sum( np.abs(F - A) / d)\n",
    "\n",
    "def madp(A,F):\n",
    "    return np.sum(np.abs(F-A)/np.abs(A))\n",
    "\n",
    "def mse(A,B):\n",
    "    return ((A - B) ** 2).mean()\n",
    "\n",
    "def distance_error(A,F):\n",
    "    dis_mean = np.mean(np.abs(A-F))\n",
    "    return 1.414*dis_mean/(A.max()-A.min())\n",
    "def calculate_error_clf(y, y_pred):\n",
    "    res = []\n",
    "    for i in range(len(y_pred)):\n",
    "        res.append([metrics.f1_score(y, y_pred[i], average=\"weighted\"),metrics.precision_score(y, y_pred[i], average=\"weighted\"),\n",
    "                    metrics.recall_score(y, y_pred[i], average=\"weighted\"),metrics.accuracy_score(y, y_pred[i]),mcc(y,y_pred[i])])\n",
    "#         scores = np.concatenate([\n",
    "# #             metrics.f1_score(y, y_pred[i], average=None),\n",
    "# #             mcc(y, y_pred[i]),\n",
    "#             metrics.precision_score(y, y_pred[i], average=None),\n",
    "#             metrics.recall_score(y, y_pred[i], average=None)],axis=0)\n",
    "#             [metrics.accuracy_score(y, y_pred[i])]], axis=0)\n",
    "#         res.append(scores)\n",
    "    return res\n",
    "\n",
    "def calculate_error_reg(y, y_pred):\n",
    "    res = []\n",
    "    for i in range(len(y_pred)):\n",
    "        res.append([smape(y, y_pred[i]),\n",
    "            pearsonr(y, y_pred[i])[0],\n",
    "                    spearmanr(y,y_pred[i])[0],\n",
    "            r2_score(y, y_pred[i])])\n",
    "    return res\n",
    "\n",
    "\n",
    "def evaluate_models(models, model_names, training, labels, testing, fold):\n",
    "    predictions = []\n",
    "    for i in range(len(models)):\n",
    "        models[i].fit(training, labels)\n",
    "        p = models[i].predict(testing)\n",
    "        predictions.append(p.reshape(-1))\n",
    "    return predictions\n",
    "def get_selected_feats_topp(features, labels, p, is_clf):\n",
    "    print(\"Select Top P\",p)\n",
    "    if is_clf:\n",
    "        sel = SelectPercentile(mutual_info_classif, percentile=p)\n",
    "    else:\n",
    "        sel = SelectPercentile(mutual_info_regression, percentile=p)\n",
    "    print(\"Fitting to Top P\")\n",
    "    start = time.time()\n",
    "    sel.fit(features, labels)\n",
    "    print(\"Time Taken : \",time.time()-start)\n",
    "    return sel.get_support(indices=True)\n",
    "\n",
    "def evaluate_folds(df_features, df_labels, df_ids, cols, estimators, estimator_names, k=500, pca=None, is_clf=False):\n",
    "    all_avgs=[]\n",
    "    counter = 1\n",
    "    skf = KFold(n_splits=5, shuffle=True, random_state=1000)\n",
    "    print('Features passed in', len(df_features.columns.values))\n",
    "    for col in cols:\n",
    "        print('=============== Label type',col,'===============')\n",
    "        labels_mod = df_labels[col]\n",
    "        testing_metrics = []\n",
    "        res_folds = []\n",
    "        counter=1\n",
    "        for train_ind, test_ind in skf.split(df_features):\n",
    "            print(\"Fold\" + str(counter))\n",
    "            counter +=1    \n",
    "            X_train, X_test = df_features.iloc[train_ind, :].reset_index(drop=True), df_features.iloc[test_ind,:].reset_index(drop=True)\n",
    "            y_train, y_test = labels_mod.iloc[train_ind], labels_mod.iloc[test_ind]\n",
    "            ids_train, ids_test = df_ids.iloc[train_ind], df_ids.iloc[test_ind]\n",
    "            print(X_train.shape,X_test.shape,y_train.shape,y_test.shape)\n",
    "            print(y_train.value_counts())\n",
    "            print(y_test.value_counts())\n",
    "            X_train_features = X_train\n",
    "            X_test_features = X_test\n",
    "            test_pred = np.array(evaluate_models(estimators, estimator_names, X_train_features, y_train, X_test_features, counter))\n",
    "            if is_clf:\n",
    "                testing_metrics.append(calculate_error_clf(y_test, test_pred))\n",
    "            else:              \n",
    "                testing_metrics.append(calculate_error_reg(y_test, test_pred))\n",
    "#             print(ids_test.T.shape, y_test.shape, test_pred.shape)\n",
    "            res_fold = np.vstack((ids_test.T, y_test, test_pred))\n",
    "            res_folds.append(res_fold)\n",
    "        testing_metrics = np.array(testing_metrics)\n",
    "        print(testing_metrics)\n",
    "#         return testing_metrics\n",
    "        avgs = np.mean(testing_metrics, axis=0)\n",
    "#         print(avgs.shape)\n",
    "        all_avgs.append(avgs)\n",
    "        # Save results\n",
    "        res_folds_all = np.hstack(tuple(res_folds))\n",
    "#         print(res_folds_all[:5])\n",
    "        outfile = OUT_DIR+\"sm_out_\"+col+\".csv\"\n",
    "        np.savetxt(outfile, res_folds_all.T, delimiter=\",\", fmt=\"%s\")\n",
    "\n",
    "    return all_avgs"
   ]
  },
  {
   "cell_type": "code",
   "execution_count": 45,
   "metadata": {},
   "outputs": [],
   "source": [
    "if is_clf:\n",
    "    gb = GradientBoostingClassifier(learning_rate=0.5, n_estimators=1000, random_state=r)\n",
    "    nn = MLPClassifier(hidden_layer_sizes=(200,200),solver='adam',random_state=r, max_iter=2000)\n",
    "    svc = SVC(C=0.1,kernel='poly',probability=True, random_state=r)\n",
    "    rfc = RandomForestClassifier(n_estimators=500,max_features='auto',random_state=r)\n",
    "    estimators = [gb, svc, rfc]\n",
    "    estimator_names = ['GB','SVM','RF']\n",
    "else:\n",
    "    rfr = RandomForestRegressor(n_estimators=125, random_state=r)\n",
    "    gbr = GradientBoostingRegressor(random_state=r)\n",
    "    xgbr = xgb.XGBRegressor(objective ='reg:squarederror', random_state=r, max_depth=100)\n",
    "#     xgbr = xgb.XGBRegressor(objective ='reg:pseudohubererror', random_state=r)\n",
    "\n",
    "    estimators = [rfr, gbr, xgbr]\n",
    "    estimator_names = ['rfr','gbr','xbr']"
   ]
  },
  {
   "cell_type": "code",
   "execution_count": 46,
   "metadata": {},
   "outputs": [
    {
     "name": "stdout",
     "output_type": "stream",
     "text": [
      "Index(['crawl_id', 'created_date', 'posts', 'positive_affect',\n",
      "       'negative_affect', 'anger', 'anxiety', 'sadness', 'swear',\n",
      "       'cognitive_mech',\n",
      "       ...\n",
      "       '94', '95', '96', '97', '98', '99', '100', 'snapshot_id', 'anxiety.d',\n",
      "       'stress.d'],\n",
      "      dtype='object', length=156)\n"
     ]
    },
    {
     "data": {
      "text/plain": [
       "['rfr', 'gbr', 'xbr']"
      ]
     },
     "execution_count": 46,
     "metadata": {},
     "output_type": "execute_result"
    }
   ],
   "source": [
    "print(df.columns)\n",
    "# df = df.drop(['stress.d','anxiety.d'],axis=1)\n",
    "# print(df.columns)\n",
    "estimator_names"
   ]
  },
  {
   "cell_type": "code",
   "execution_count": 47,
   "metadata": {},
   "outputs": [
    {
     "name": "stdout",
     "output_type": "stream",
     "text": [
      "Feature shape  (879, 151)\n",
      "Index(['posts', 'positive_affect', 'negative_affect', 'anger', 'anxiety',\n",
      "       'sadness', 'swear', 'cognitive_mech', 'discrepancies', 'inhibition',\n",
      "       ...\n",
      "       '91', '92', '93', '94', '95', '96', '97', '98', '99', '100'],\n",
      "      dtype='object', length=151)\n",
      "0\n"
     ]
    }
   ],
   "source": [
    "pos_labels = ['stress.d','anxiety.d','life_event_yes_no','crawl_id']\n",
    "labels = ['snapshot_id','created_date']\n",
    "label_type = [\"stress.d\", \"anxiety.d\"]\n",
    "labels.append(label_type)\n",
    "feats = [x for x in df.columns.values if x not in labels+pos_labels]\n",
    "feats = df[feats]\n",
    "print(\"Feature shape \", feats.shape)\n",
    "print(feats.columns)\n",
    "print(is_clf)"
   ]
  },
  {
   "cell_type": "code",
   "execution_count": 48,
   "metadata": {},
   "outputs": [
    {
     "name": "stdout",
     "output_type": "stream",
     "text": [
      "Features passed in 151\n",
      "=============== Label type stress.d ===============\n",
      "Fold1\n",
      "(703, 151) (176, 151) (703,) (176,)\n",
      "1.0    285\n",
      "2.0    204\n",
      "3.0    179\n",
      "4.0     24\n",
      "5.0     11\n",
      "Name: stress.d, dtype: int64\n",
      "1.0    78\n",
      "2.0    57\n",
      "3.0    37\n",
      "4.0     3\n",
      "5.0     1\n",
      "Name: stress.d, dtype: int64\n",
      "Fold2\n",
      "(703, 151) (176, 151) (703,) (176,)\n",
      "1.0    292\n",
      "2.0    200\n",
      "3.0    174\n",
      "4.0     25\n",
      "5.0     12\n",
      "Name: stress.d, dtype: int64\n",
      "1.0    71\n",
      "2.0    61\n",
      "3.0    42\n",
      "4.0     2\n",
      "Name: stress.d, dtype: int64\n",
      "Fold3\n",
      "(703, 151) (176, 151) (703,) (176,)\n",
      "1.0    294\n",
      "2.0    215\n",
      "3.0    171\n",
      "4.0     17\n",
      "5.0      6\n",
      "Name: stress.d, dtype: int64\n",
      "1.0    69\n",
      "2.0    46\n",
      "3.0    45\n",
      "4.0    10\n",
      "5.0     6\n",
      "Name: stress.d, dtype: int64\n",
      "Fold4\n",
      "(703, 151) (176, 151) (703,) (176,)\n",
      "1.0    283\n",
      "2.0    211\n",
      "3.0    177\n",
      "4.0     23\n",
      "5.0      9\n",
      "Name: stress.d, dtype: int64\n",
      "1.0    80\n",
      "2.0    50\n",
      "3.0    39\n",
      "4.0     4\n",
      "5.0     3\n",
      "Name: stress.d, dtype: int64\n",
      "Fold5\n",
      "(704, 151) (175, 151) (704,) (175,)\n",
      "1.0    298\n",
      "2.0    214\n",
      "3.0    163\n",
      "4.0     19\n",
      "5.0     10\n",
      "Name: stress.d, dtype: int64\n",
      "1.0    65\n",
      "3.0    53\n",
      "2.0    47\n",
      "4.0     8\n",
      "5.0     2\n",
      "Name: stress.d, dtype: int64\n",
      "[[[ 2.20154721e+01 -4.57063257e-02 -8.30482796e-02 -2.43341429e-01]\n",
      "  [ 2.18468784e+01  2.19024895e-02 -6.91164790e-02 -2.14972667e-01]\n",
      "  [ 2.35820906e+01 -1.13107637e-02 -5.88186336e-02 -4.64255525e-01]]\n",
      "\n",
      " [[ 1.95700297e+01  1.78190779e-01  1.24024213e-01 -5.42056414e-02]\n",
      "  [ 1.95595455e+01  1.35734584e-01  1.31387825e-01 -5.48923706e-02]\n",
      "  [ 1.94257364e+01  1.82530633e-01  1.49770780e-01 -1.72459856e-01]]\n",
      "\n",
      " [[ 2.17622840e+01  1.93527352e-01  1.55325945e-01 -1.86115568e-02]\n",
      "  [ 2.19067697e+01  1.26840414e-01  8.31057076e-02 -3.94332739e-02]\n",
      "  [ 2.21144219e+01  1.12370052e-01  8.84422041e-02 -1.48578259e-01]]\n",
      "\n",
      " [[ 2.03562363e+01  2.97864426e-01  2.08029259e-01  7.31440033e-02]\n",
      "  [ 2.08030186e+01  2.34962722e-01  1.71717798e-01  3.53381698e-02]\n",
      "  [ 2.23473935e+01  1.10905576e-01  6.16535035e-02 -2.07544177e-01]]\n",
      "\n",
      " [[ 2.14280816e+01  1.07608408e-01  9.25943027e-02 -5.99175035e-02]\n",
      "  [ 2.18608046e+01  7.23733200e-02  9.06154407e-02 -1.13902282e-01]\n",
      "  [ 2.29497655e+01  2.95374214e-02 -1.35592357e-02 -2.57908211e-01]]]\n",
      "=============== Label type anxiety.d ===============\n",
      "Fold1\n",
      "(703, 151) (176, 151) (703,) (176,)\n",
      "1.0    361\n",
      "2.0    247\n",
      "3.0     68\n",
      "4.0     16\n",
      "5.0     11\n",
      "Name: anxiety.d, dtype: int64\n",
      "1.0    99\n",
      "2.0    57\n",
      "3.0    15\n",
      "4.0     3\n",
      "5.0     2\n",
      "Name: anxiety.d, dtype: int64\n",
      "Fold2\n",
      "(703, 151) (176, 151) (703,) (176,)\n",
      "1.0    367\n",
      "2.0    244\n",
      "3.0     63\n",
      "4.0     17\n",
      "5.0     12\n",
      "Name: anxiety.d, dtype: int64\n",
      "1.0    93\n",
      "2.0    60\n",
      "3.0    20\n",
      "4.0     2\n",
      "5.0     1\n",
      "Name: anxiety.d, dtype: int64\n",
      "Fold3\n",
      "(703, 151) (176, 151) (703,) (176,)\n",
      "1.0    370\n",
      "2.0    240\n",
      "3.0     73\n",
      "5.0     10\n",
      "4.0     10\n",
      "Name: anxiety.d, dtype: int64\n",
      "1.0    90\n",
      "2.0    64\n",
      "3.0    10\n",
      "4.0     9\n",
      "5.0     3\n",
      "Name: anxiety.d, dtype: int64\n",
      "Fold4\n",
      "(703, 151) (176, 151) (703,) (176,)\n",
      "1.0    357\n",
      "2.0    254\n",
      "3.0     66\n",
      "4.0     18\n",
      "5.0      8\n",
      "Name: anxiety.d, dtype: int64\n",
      "1.0    103\n",
      "2.0     50\n",
      "3.0     17\n",
      "5.0      5\n",
      "4.0      1\n",
      "Name: anxiety.d, dtype: int64\n",
      "Fold5\n",
      "(704, 151) (175, 151) (704,) (175,)\n",
      "1.0    385\n",
      "2.0    231\n",
      "3.0     62\n",
      "4.0     15\n",
      "5.0     11\n",
      "Name: anxiety.d, dtype: int64\n",
      "1.0    75\n",
      "2.0    73\n",
      "3.0    21\n",
      "4.0     4\n",
      "5.0     2\n",
      "Name: anxiety.d, dtype: int64\n",
      "[[[ 2.10447189e+01  5.01617891e-02  4.26861152e-02 -1.60224359e-01]\n",
      "  [ 2.05972629e+01  6.91981415e-02  4.72030624e-02 -1.01141500e-01]\n",
      "  [ 2.16619879e+01 -4.45019451e-02 -4.96206204e-05 -5.07173415e-01]]\n",
      "\n",
      " [[ 1.96120257e+01  2.40545448e-01  1.23234879e-01 -2.48685895e-03]\n",
      "  [ 1.92113643e+01  2.75987556e-01  2.74341789e-01  7.14746529e-02]\n",
      "  [ 1.94780978e+01  2.79043870e-01  1.81778815e-01 -1.20881529e-01]]\n",
      "\n",
      " [[ 1.97499887e+01  1.81682761e-01  1.07035925e-01  4.59748041e-03]\n",
      "  [ 1.93890564e+01  1.89440911e-01  1.89934949e-01  1.80568239e-02]\n",
      "  [ 1.92123327e+01  2.78744596e-01  1.84274222e-01  1.16124810e-02]]\n",
      "\n",
      " [[ 2.07412422e+01  2.43786011e-01  1.58085099e-01  3.56192987e-02]\n",
      "  [ 2.08631386e+01  1.84231106e-01  1.68659232e-01 -7.86929039e-04]\n",
      "  [ 1.99346289e+01  2.79429380e-01  2.52948869e-01 -4.97992303e-02]]\n",
      "\n",
      " [[ 1.95353774e+01  1.58177792e-01  1.55859382e-01 -6.45392154e-02]\n",
      "  [ 1.95605257e+01  1.60376922e-01  1.44066985e-01 -9.84583502e-02]\n",
      "  [ 2.03588940e+01  9.38543068e-02  2.62359806e-02 -3.25382399e-01]]]\n"
     ]
    }
   ],
   "source": [
    "sm_res = evaluate_folds(feats, df[label_type] , df[['snapshot_id','created_date']], label_type, estimators, estimator_names, pca=True, is_clf=is_clf)"
   ]
  },
  {
   "cell_type": "code",
   "execution_count": 49,
   "metadata": {},
   "outputs": [
    {
     "name": "stdout",
     "output_type": "stream",
     "text": [
      "Stress\n",
      "          SMAPE   Pearson  Spearman        R2\n",
      "rfr  21.026421  0.146297  0.099385 -0.060586\n",
      "gbr  21.195403  0.118363  0.081542 -0.077572\n",
      "xbr  22.083882  0.084807  0.045498 -0.250149\n",
      "\n",
      "Anxiety\n",
      "          SMAPE   Pearson  Spearman        R2\n",
      "rfr  20.136671  0.174871  0.117380 -0.037407\n",
      "gbr  19.924270  0.175847  0.164841 -0.022171\n",
      "xbr  20.129188  0.177314  0.129038 -0.198325\n"
     ]
    }
   ],
   "source": [
    "if is_clf:\n",
    "    tm = pd.DataFrame(sm_res[0])\n",
    "    tm = tm.rename(index={0:'GB', 1:'SVM', 2:'RF'}, columns = {0:'F1',1:'Precision',2:'Recall',3:'Accuracy',4:'MCC'})\n",
    "    print(\"Stress\\n\",tm)\n",
    "    tm = pd.DataFrame(sm_res[1])\n",
    "    tm = tm.rename(index={0:'GB', 1:'SVM', 2:'RF'}, columns = {0:'F1',1:'Precision',2:'Recall',3:'Accuracy',4:'MCC'})\n",
    "    print(\"Anxiety\\n\",tm)\n",
    "else:\n",
    "    tm = pd.DataFrame(sm_res[0])\n",
    "    tm = tm.rename(index={0:'rfr', 1:'gbr', 2:'xbr'}, columns = {0:'SMAPE',1:'Pearson',2:'Spearman',3:'R2'})\n",
    "    print(\"Stress\\n\",tm)\n",
    "    tm = pd.DataFrame(sm_res[1])\n",
    "    tm = tm.rename(index={0:'rfr', 1:'gbr', 2:'xbr'}, columns = {0:'SMAPE',1:'Pearson',2:'Spearman',3:'R2'})\n",
    "    print(\"\\nAnxiety\\n\",tm)"
   ]
  },
  {
   "cell_type": "code",
   "execution_count": null,
   "metadata": {},
   "outputs": [],
   "source": []
  },
  {
   "cell_type": "code",
   "execution_count": 29,
   "metadata": {},
   "outputs": [
    {
     "name": "stdout",
     "output_type": "stream",
     "text": [
      "Stress\n",
      "         SMAPE   Pearson  Spearman        R2\n",
      "rfr  0.211191  0.107839  0.087510 -0.084117\n",
      "gbr  0.210426  0.119221  0.101653 -0.057934\n",
      "xbr  0.208193  0.156896  0.122029 -0.034387\n",
      "Anxiety\n",
      "         SMAPE   Pearson  Spearman        R2\n",
      "rfr  0.200602  0.138481  0.135182 -0.077783\n",
      "gbr  0.201569  0.120868  0.154095 -0.069693\n",
      "xbr  0.200832  0.152402  0.157453 -0.032997\n"
     ]
    }
   ],
   "source": []
  },
  {
   "cell_type": "code",
   "execution_count": 151,
   "metadata": {},
   "outputs": [
    {
     "name": "stdout",
     "output_type": "stream",
     "text": [
      "Stress\n",
      "            F1  Precision    Recall  Accuracy       MCC\n",
      "GB   0.623427   0.615112  0.643903  0.643903  0.055149\n",
      "SVM  0.590467   0.506597  0.709818  0.709818  0.000000\n",
      "RF   0.609546   0.639533  0.703013  0.703013  0.051944\n",
      "Anxiety\n",
      "            F1  Precision    Recall  Accuracy       MCC\n",
      "GB   0.793002   0.776816  0.812260  0.812260  0.014520\n",
      "SVM  0.808349   0.755585  0.869143  0.869143  0.000000\n",
      "RF   0.816493   0.819927  0.869136  0.869136  0.107051\n"
     ]
    }
   ],
   "source": []
  },
  {
   "cell_type": "code",
   "execution_count": 121,
   "metadata": {},
   "outputs": [
    {
     "name": "stdout",
     "output_type": "stream",
     "text": [
      "Stress\n",
      "            F1  Precision    Recall  Accuracy       MCC\n",
      "GB   0.351465   0.356364  0.361740  0.361740  0.043945\n",
      "SVM  0.242043   0.171484  0.412922  0.412922  0.000000\n",
      "RF   0.333832   0.353209  0.390169  0.390169  0.026406\n",
      "Anxiety\n",
      "            F1  Precision    Recall  Accuracy       MCC\n",
      "GB   0.413297   0.409118  0.431169  0.431169  0.004855\n",
      "SVM  0.361130   0.276656  0.523214  0.523214  0.000000\n",
      "RF   0.392926   0.388294  0.466396  0.466396 -0.033853\n"
     ]
    }
   ],
   "source": []
  },
  {
   "cell_type": "code",
   "execution_count": 102,
   "metadata": {},
   "outputs": [
    {
     "name": "stdout",
     "output_type": "stream",
     "text": [
      "Stress\n",
      "            F1\n",
      "GB   0.043945\n",
      "SVM  0.000000\n",
      "RF   0.026406\n",
      "Anxiety\n",
      "            F1\n",
      "GB   0.004855\n",
      "SVM  0.000000\n",
      "RF  -0.033853\n"
     ]
    }
   ],
   "source": []
  },
  {
   "cell_type": "code",
   "execution_count": 13,
   "metadata": {},
   "outputs": [
    {
     "data": {
      "text/plain": [
       "[array([[20.98474701,  0.14355997,  0.09907613, -0.06120603],\n",
       "        [21.19540336,  0.11836271,  0.08154206, -0.07757248],\n",
       "        [20.91236967,  0.15391654,  0.12611835, -0.04493476]]),\n",
       " array([[20.0426375 ,  0.18671116,  0.13339477, -0.02453432],\n",
       "        [19.92426956,  0.17584693,  0.1648412 , -0.02217106],\n",
       "        [20.03332646,  0.15994421,  0.15031704, -0.02761903]])]"
      ]
     },
     "execution_count": 13,
     "metadata": {},
     "output_type": "execute_result"
    }
   ],
   "source": [
    "sm_res"
   ]
  },
  {
   "cell_type": "code",
   "execution_count": 14,
   "metadata": {},
   "outputs": [
    {
     "data": {
      "text/plain": [
       "-0.05270462766947299"
      ]
     },
     "execution_count": 14,
     "metadata": {},
     "output_type": "execute_result"
    }
   ],
   "source": [
    "a=[1,2,3,4,5]\n",
    "b=[5,6,7,8,7]\n",
    "mcc(a,b)"
   ]
  },
  {
   "cell_type": "code",
   "execution_count": 15,
   "metadata": {},
   "outputs": [
    {
     "data": {
      "text/plain": [
       "array([[20.0426375 ,  0.18671116,  0.13339477, -0.02453432],\n",
       "       [19.92426956,  0.17584693,  0.1648412 , -0.02217106],\n",
       "       [20.03332646,  0.15994421,  0.15031704, -0.02761903]])"
      ]
     },
     "execution_count": 15,
     "metadata": {},
     "output_type": "execute_result"
    }
   ],
   "source": [
    "np.mean(sm_res[1:3],axis=0)\n",
    "sm_res[1]"
   ]
  },
  {
   "cell_type": "code",
   "execution_count": 16,
   "metadata": {},
   "outputs": [
    {
     "data": {
      "text/plain": [
       "array([0., 0., 0., 0., 0., 0., 0., 0.])"
      ]
     },
     "execution_count": 16,
     "metadata": {},
     "output_type": "execute_result"
    }
   ],
   "source": [
    "# metrics.f1_score(a, b, average=None)\n",
    "#             mcc(a, b),\n",
    "metrics.precision_score(a,b, average=None)\n",
    "#             metrics.recall_score(y, y_pred[i], average=None),\n",
    "#             metrics.accuracy_score(y, y_pred[i])], axis=0)"
   ]
  },
  {
   "cell_type": "code",
   "execution_count": 17,
   "metadata": {},
   "outputs": [],
   "source": [
    "scores = np.concatenate([\n",
    "metrics.f1_score(a,b, average=None),\n",
    "#             mcc(y, y_pred[i]),\n",
    "metrics.precision_score(a,b, average=None),\n",
    "metrics.recall_score(a,b, average=None),\n",
    "[metrics.accuracy_score(a,b)]], axis=0)\n",
    "# res.append(scores)"
   ]
  },
  {
   "cell_type": "code",
   "execution_count": 18,
   "metadata": {},
   "outputs": [
    {
     "data": {
      "text/plain": [
       "1"
      ]
     },
     "execution_count": 18,
     "metadata": {},
     "output_type": "execute_result"
    }
   ],
   "source": [
    "metrics.f1_score(a,b, average=None).shape\n",
    "metrics.precision_score(a,b, average=None).shape\n",
    "metrics.recall_score(a,b, average=None).shape\n",
    "len([metrics.accuracy_score(a,b)])"
   ]
  },
  {
   "cell_type": "code",
   "execution_count": 19,
   "metadata": {},
   "outputs": [
    {
     "data": {
      "text/plain": [
       "0.0"
      ]
     },
     "execution_count": 19,
     "metadata": {},
     "output_type": "execute_result"
    }
   ],
   "source": [
    "scores[2]\n"
   ]
  },
  {
   "cell_type": "code",
   "execution_count": null,
   "metadata": {},
   "outputs": [],
   "source": []
  }
 ],
 "metadata": {
  "kernelspec": {
   "display_name": "Python 3",
   "language": "python",
   "name": "python3"
  },
  "language_info": {
   "codemirror_mode": {
    "name": "ipython",
    "version": 3
   },
   "file_extension": ".py",
   "mimetype": "text/x-python",
   "name": "python",
   "nbconvert_exporter": "python",
   "pygments_lexer": "ipython3",
   "version": "3.7.7"
  }
 },
 "nbformat": 4,
 "nbformat_minor": 2
}
