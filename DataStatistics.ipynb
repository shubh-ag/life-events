{
 "cells": [
  {
   "cell_type": "markdown",
   "metadata": {},
   "source": [
    "# Data Statistics\n",
    "Pranshu Gupta"
   ]
  },
  {
   "cell_type": "code",
   "execution_count": 113,
   "metadata": {},
   "outputs": [],
   "source": [
    "import re\n",
    "import pickle\n",
    "import datetime\n",
    "from datetime import timedelta, date\n",
    "import numpy as np\n",
    "import pandas as pd\n",
    "import matplotlib.pyplot as plt\n",
    "from pandas.plotting import register_matplotlib_converters\n",
    "register_matplotlib_converters()\n",
    "\n",
    "import math\n",
    "import numpy as np\n",
    "import scipy\n",
    "from scipy.stats import binom, hypergeom\n",
    "import pandas\n",
    "import matplotlib.pyplot as plt\n",
    "from sklearn.linear_model import LogisticRegression\n",
    "import time\n",
    "import math\n",
    "\n",
    "import matplotlib as mpl\n",
    "import matplotlib.pyplot as pp\n",
    "import numpy as np\n",
    "from itertools import cycle \n",
    "from statsmodels.nonparametric.smoothers_lowess import lowess\n",
    "import matplotlib.dates as mdates\n",
    "import datetime\n",
    "import nltk\n",
    "\n",
    "import seaborn as sns\n",
    "from matplotlib import pyplot as pp\n",
    "import matplotlib.dates as mdates\n",
    "import matplotlib.ticker as ticker\n",
    "\n",
    "def setupMPPTufte():\n",
    "#     pp.clf()\n",
    "    pp.rcParams['font.family'] = 'sans-serif'\n",
    "    pp.rcParams['text.latex.preamble'] = [r'\\usepackage[cm]{sfmath}']\n",
    "    pp.rcParams['font.family'] = 'sans-serif'\n",
    "    pp.rcParams['text.usetex'] = False\n",
    "    pp.rcParams['text.latex.unicode']=False\n",
    "    pp.rcParams['font.sans-serif'] = 'cm'\n",
    "    pp.rcParams['font.size'] = 24\n",
    "    pp.rcParams['text.color'] = \"#000000\"\n",
    "    pp.rcParams['ytick.labelsize'] = 24\n",
    "    pp.rcParams['xtick.labelsize'] = 24\n",
    "    pp.rcParams['ytick.color'] = '#000000'\n",
    "    pp.rcParams['xtick.color'] = '#000000'\n",
    "    pp.rcParams['legend.fontsize'] = 24\n",
    "    pp.rcParams['lines.markersize'] = 14\n",
    "    pp.rcParams['axes.titlesize'] = 24\n",
    "    pp.rcParams['axes.labelcolor'] = '#000000'\n",
    "    pp.rcParams['axes.labelsize'] = 24\n",
    "    #     plt.rcParams['axes.edgecolor'] = '#f0f0f0'\n",
    "    pp.rcParams['axes.edgecolor'] = '#525252'\n",
    "    pp.rcParams['axes.linewidth'] = 1.0\n",
    "    pp.rcParams['axes.grid'] = False\n",
    "    #     plt.rcParams['axes.grid'] = True\n",
    "    #     plt.rcParams['axes.grid.axis'] = \"y\"\n",
    "    #     plt.rcParams['grid.linewidth'] = 3.0\n",
    "    pp.rcParams['grid.color'] = \"#FFFFFF\"\n",
    "    pp.rcParams['legend.frameon'] = True\n",
    "    pp.rcParams['legend.framealpha'] = 0.1\n",
    "    pp.rcParams['legend.fancybox'] = True    \n",
    "    pp.rcParams['legend.numpoints'] = 1\n",
    "    pp.rcParams['legend.scatterpoints'] = 1\n",
    "    pp.rcParams['legend.facecolor'] = 'none'\n",
    "    pp.rcParams['figure.figsize'] = 8,8\n",
    "    pp.gca().spines['top'].set_visible(False)\n",
    "    pp.gca().spines['bottom'].set_visible(True)\n",
    "    pp.gca().spines['right'].set_visible(False)\n",
    "    pp.gca().spines['left'].set_visible(True)\n",
    "    pp.gca().get_xaxis().tick_bottom()\n",
    "    pp.gca().get_yaxis().tick_left()\n",
    "#     pp.tick_params(axis='both', which='major', bottom=True, top=False, labelbottom=True, left=True,\n",
    "#                   right=False, labelleft=True, length=10, width=2, direction='out',  color='#ffffff')\n",
    "    pp.tick_params(axis='both', which='major', bottom=False, top=False, labelbottom=True, left=False,\n",
    "right=False, labelleft=True, length=10, width=2, direction='out',  color='#636363')\n",
    "    return pp\n",
    "\n",
    "import matplotlib.dates as mdates\n",
    "import warnings\n",
    "warnings.filterwarnings(\"ignore\")\n",
    "\n",
    "def cleanSentence(sentence):\n",
    "    sentence = re.sub(r'(\\bwww\\..+?(\\s|$))', ' ', sentence)\n",
    "    sentence = re.sub(r'(\\bhttps{0,1}\\:\\/\\/.+?(\\s|$))', '', sentence)\n",
    "    sentence = re.sub(r'(@.+?(\\b|\\s|$))', '', sentence)\n",
    "    sentence = re.sub(r'\\bRT\\b', '', sentence)\n",
    "    sentence = re.sub(r'\\s+',' ',sentence)\n",
    "    sentence = sentence.lower()\n",
    "    \n",
    "    pattern = re.compile(r'\\b(' + r'|'.join(stopwords.words('english')) + r')\\b\\s*')\n",
    "    sentence = pattern.sub('', sentence)\n",
    "#    sentence = stem(sentence)\n",
    "\n",
    "    translator = sentence.maketrans({key: None for key in string.punctuation})\n",
    "    return sentence.translate(translator)\n",
    "\n",
    "\n",
    "\n",
    "def writeToFile(fileName, list):\n",
    "    file = open(fileName, 'w')\n",
    "    for x in list:\n",
    "        file.write(str(x)+\"\\n\")\n",
    "    file.close()\n",
    "\n",
    "def standardizeVector(vector):\n",
    "    if np.max(vector)==0:\n",
    "        return vector\n",
    "    return (vector - np.min(vector)) / (np.max(vector) - np.min(vector))\n",
    "    \n",
    "def logStandardizeVector(vector):\n",
    "#    print(min(vector), max(vector))\n",
    "#    return [math.log((x+0.0000001)) for x in vector]\n",
    "    return [math.log(x) for x in vector]\n",
    "\n",
    "            \n",
    "def preProcessDF(df):\n",
    "    df = df.drop(df.columns[0], axis=1)\n",
    "    df[\"tenure\"] = logStandardizeVector(df[\"tenure\"].values)\n",
    "    df[\"comments_karma\"] = standardizeVector(df[\"comments_karma\"].values)\n",
    "    df[\"posts_karma\"] = standardizeVector(df[\"posts_karma\"].values)\n",
    "#    df[\"log_posts_karma\"] = logStandardizeVector(df[\"posts_karma\"].values)\n",
    "    df[\"norm_num_comments\"] = logStandardizeVector(df[\"num_comments\"].values)\n",
    "    df[\"norm_num_posts\"] = logStandardizeVector(df[\"num_posts\"].values)\n",
    "    return df\n",
    "\n",
    "def liwcNormalize(df, liwcCategories):\n",
    "    for cat in liwcCategories:\n",
    "        df[cat] = (df[cat]+1)/(df[\"NumTokens\"]+1)\n",
    "    return df\n",
    "\n",
    "\n",
    "def getAggDF(initialDF):\n",
    "    initialDF = initialDF.drop(\"Date\", axis = 1)\n",
    "    aggColNames = initialDF.columns.values\n",
    "#    aggDF = pandas.DataFrame(initialDF.groupby([\"UserName\"])[aggColNames].sum()).reset_index()\n",
    "#    aggDF = pandas.DataFrame(initialDF.groupby([\"UserName\", \"Date\"])[aggColNames].sum()).reset_index()\n",
    "    aggDF = pandas.DataFrame(initialDF.groupby([\"UserName\"])[aggColNames].sum()).reset_index()\n",
    "    return aggDF\n",
    "\n",
    "def calculateDc(colName, df, key, matchedDict):\n",
    "    vec1 = df[df[key].isin(matchedDict.keys())][colName].values\n",
    "    vec2 = df[df[key].isin(matchedDict.values())][colName].values\n",
    "    \n",
    "    num = np.mean(vec1) - np.mean(vec2)\n",
    "    den = math.sqrt(abs((math.pow(np.std(vec1),2)+math.pow(np.std(vec2),2))))\n",
    "    \n",
    "    val = num/den\n",
    "    return val\n",
    "\n",
    "#def calculateCohensD(colName, df, matchedAuthorDict):\n",
    "def calculateCohensD(colName, df, key, matchedDict, isStandardize):\n",
    "    \n",
    "    print(colName, key)\n",
    "#    return 0\n",
    "    vec1 = df[df[key].isin(matchedDict.keys())][str(colName)].values\n",
    "    vec2 = df[df[key].isin(matchedDict.values())][str(colName)].values\n",
    "    \n",
    "    if isStandardize:\n",
    "        vec1 = standardizeVector(vec1)\n",
    "        vec2 = standardizeVector(vec2)\n",
    "    \n",
    "    num = np.mean(vec1) - np.mean(vec2)\n",
    "    n = len(vec1)\n",
    "    \n",
    "    s1 = np.var(vec1)\n",
    "    s2 = np.var(vec2)\n",
    "    den = math.sqrt( (s1 + s2 ) / (2))\n",
    "    \n",
    "#    den = np.std(df[colName].values)\n",
    "    \n",
    "    h = (1-(3/(8*n-9)))\n",
    "#    print(h)\n",
    "    \n",
    "    val = h*num/den\n",
    "#    print(len(vec1), len(vec2), np.mean(vec1), np.mean(vec2), np.std(vec1), np.std(vec2), val)\n",
    "    \n",
    "    print(colName, len(vec1), len(vec2), np.mean(vec1), np.mean(vec2), np.std(vec1), np.std(vec2), round(val, 2))\n",
    "    return val\n",
    "\n",
    "def calculateCorrelation(d):\n",
    "    \n",
    "    a = 4\n",
    "    r = d/(d*d + a)\n",
    "    return r\n",
    "    \n",
    "\n",
    "\n",
    "def calculateCI(data, confidence=0.95):\n",
    "    a = 1.0*np.array(data)\n",
    "    n = len(a)\n",
    "    m, se = np.mean(a), scipy.stats.sem(a)\n",
    "#    m, se = np.median(a), scipy.stats.sem(a)\n",
    "    h = se * scipy.stats.t._ppf((1+confidence)/2., n-1)\n",
    "#    return m, m-h, m+h\n",
    "    return m, h\n",
    "\n",
    "def getLowessedVector(vector, timeUnix):\n",
    "#    fracVal = 0.025\n",
    "    fracVal = 0.3\n",
    "#    fracVal = 0.05\n",
    "    lowessedVector = lowess(vector,  timeUnix, is_sorted = True, return_sorted= False, frac=fracVal, it=0)\n",
    "    return lowessedVector\n",
    "\n",
    "\n",
    "def getCentralTendencies (vec):\n",
    "#    print(\"Length\", len(vec), \"Mean\", np.mean(vec), \"Median\", np.median(vec), \"Stdev.\", np.std(vec))\n",
    "    print(\"Length\", len(vec), \"Min\", np.min(vec), \"Max\", np.max(vec), \"Mean\", np.mean(vec), \"Median\", np.median(vec), \"Stdev.\", np.std(vec))"
   ]
  },
  {
   "cell_type": "code",
   "execution_count": 114,
   "metadata": {},
   "outputs": [],
   "source": [
    "# demographics = pd.read_csv(\"../data/igtbs_demographics2.csv\")\n",
    "demographics = pd.read_csv(\"data/igtbs_demographics_complete.csv\")\n",
    "lifeEventDF = pd.read_csv(\"output/igtbTotalDF_1598288973.0025.csv\")\n",
    "demographics = demographics[demographics.snapshot_id.isin(lifeEventDF.snapshot_id.values)]"
   ]
  },
  {
   "cell_type": "code",
   "execution_count": 115,
   "metadata": {},
   "outputs": [],
   "source": [
    "# demographics = demographics.merge(feats_full[\"snapshot_id\"], on=\"snapshot_id\")"
   ]
  },
  {
   "cell_type": "code",
   "execution_count": 116,
   "metadata": {},
   "outputs": [
    {
     "data": {
      "text/plain": [
       "Index(['snapshot_id', 'cohort', 'sub_cohort', 'date_enrolled',\n",
       "       'completed_enrollment', 'dropout', 'dropout_date', 'blinded',\n",
       "       'IGTB_Date', 'age', 'country', 'gender', 'bornUS', 'lang', 'englyrs',\n",
       "       'educ', 'jobstat', 'occup', 'occup_24_TEXT', 'supervise',\n",
       "       'quantsup (how many do you supervise)', 'size (of organization)',\n",
       "       'duration (how long have you been with your employer)', 'income',\n",
       "       'org.deviance', 'shipley.abs', 'gats.quantity.sub', 'neuroticism',\n",
       "       'openness', 'itp', 'gats.status', 'ocb', 'gats.quantity',\n",
       "       'extraversion', 'agreeableness', 'irb', 'neg.affect', 'stai.trait',\n",
       "       'inter.deviance', 'conscientiousness', 'audit', 'psqi', 'pos.affect',\n",
       "       'ipaq', 'shipley.vocab'],\n",
       "      dtype='object')"
      ]
     },
     "execution_count": 116,
     "metadata": {},
     "output_type": "execute_result"
    }
   ],
   "source": [
    "demographics.columns"
   ]
  },
  {
   "cell_type": "code",
   "execution_count": 117,
   "metadata": {},
   "outputs": [],
   "source": [
    "cols = [\"gender\", \n",
    "        \"age\", \n",
    "        \"educ\", \n",
    "        \"income\", \n",
    "        \"supervise\", \n",
    "        \"occup\", \n",
    "        \"duration (how long have you been with your employer)\",\n",
    "        \"shipley.abs\", \n",
    "        \"shipley.vocab\", \n",
    "        \"openness\", \n",
    "        \"conscientiousness\",\n",
    "        \"extraversion\",\n",
    "        \"agreeableness\",\n",
    "        \"neuroticism\"\n",
    "       ]"
   ]
  },
  {
   "cell_type": "code",
   "execution_count": 82,
   "metadata": {},
   "outputs": [
    {
     "name": "stdout",
     "output_type": "stream",
     "text": [
      "gender ['Female' 'Male']\n",
      "\n",
      "age [39. 34. 35. 52. 54. 42. 31. 33. 27. 38. 26. 47. 40. 32. 24. 30. 43. 50.\n",
      " 53. 22. 23. 29. 25. 63. 44. 57. 28. 41. 36. 37. 46. 45. 56. 48. 51. 49.\n",
      " 55. 58. 60.]\n",
      "\n",
      "educ ['College degree' \"Master's degree\" 'Doctoral degree, such as PhD, MD, JD'\n",
      " 'Some graduate school' 'High school degree (or equivalent)'\n",
      " 'College Degree' \"Master's Degree\" 'HS Degree' 'Some College'\n",
      " 'Some Grad Sch' 'Doctoral Degree']\n",
      "\n",
      "income ['$50,000 to $74,999' '$100,000 to $124,999' '$75,000 to $99,999'\n",
      " 'More than $150,000' '$25,000 to $49,999' '$125,000 to $150,000' nan\n",
      " '75K to 99,999' '100K to 124,999' '25K to 49,999' '50K to 74,999'\n",
      " '> 150K' '125K to 150,000' '< 25K']\n",
      "\n",
      "supervise ['No' 'Yes']\n",
      "\n",
      "occup ['Office and Administrative Support Occupations'\n",
      " 'Education, Training, and Library Services'\n",
      " 'Arts, Design, Entertainment, Sports, and Media'\n",
      " 'Healthcare Practitioners and Technical Healthcare Occupations'\n",
      " 'Business and Financial Operations' 'Management'\n",
      " 'Computer and Mathematical' 'Other (please specify)'\n",
      " 'Life, Physical, and Social Science'\n",
      " 'Building and Grounds Cleaning and Maintenance'\n",
      " 'Architecture and Engineering' 'Healthcare Support' 'Production'\n",
      " 'Sales and Related Occupations' '3' '1' '24' '21' '2' '17' '4' '20' '8'\n",
      " '7' '9']\n",
      "\n",
      "duration (how long have you been with your employer) ['2 years' '5 years' '4 years' 'More than 8 years' '3 years' '8 years'\n",
      " '1 year' 'Less than a year' '7 years' '6 years' nan]\n",
      "\n",
      "shipley.abs [15. 19.  5. 13. 17. 20. 18. 16. 14.  8. 21. 10. 12. 11. 22.  9. 23. 24.]\n",
      "\n",
      "shipley.vocab [32. 38. 37. 28. 34. 33. 36. 27. 35. 39. 31. 40. 30. 29. 24. 26. 22. 25.]\n",
      "\n",
      "openness [4.75       3.5        3.25       4.33333333 3.66666667 4.41666667\n",
      " 4.25       3.91666667 4.58333333 4.5        3.83333333 3.41666667\n",
      " 3.58333333 3.16666667 4.         2.75       4.16666667 2.16666667\n",
      " 3.33333333 4.83333333 2.91666667 4.08333333 3.75       2.83333333\n",
      " 4.66666667 2.5        2.66666667 3.         2.58333333 2.33333333\n",
      " 3.08333333 5.         3.41666667 3.66666667 3.16666667 3.33333333\n",
      " 4.33333333 4.66666667 4.08333333 4.16666667 4.41666667 4.83333333\n",
      " 2.83333333 3.83333333 3.91666667 3.58333333 4.91666667 2.58333333\n",
      " 2.25      ]\n",
      "\n",
      "conscientiousness [4.66666667 4.83333333 4.08333333 3.41666667 4.25       3.16666667\n",
      " 4.33333333 2.66666667 4.         2.75       4.16666667 3.25\n",
      " 4.5        3.91666667 4.91666667 3.5        2.83333333 3.75\n",
      " 2.91666667 4.75       2.33333333 3.66666667 4.58333333 1.91666667\n",
      " 3.58333333 5.         3.83333333 2.5        4.41666667 2.41666667\n",
      " 3.33333333 3.08333333 2.58333333 3.         3.41666667 4.58333333\n",
      " 4.33333333 4.08333333 3.33333333 3.83333333 4.83333333 3.66666667\n",
      " 4.16666667 4.66666667 4.41666667 3.91666667 2.91666667 4.91666667\n",
      " 3.58333333 3.08333333]\n",
      "\n",
      "extraversion [3.66666667 3.         4.58333333 2.91666667 3.08333333 2.41666667\n",
      " 2.58333333 3.16666667 4.25       2.5        4.5        2.16666667\n",
      " 2.75       3.83333333 2.83333333 4.91666667 4.16666667 3.33333333\n",
      " 4.33333333 2.25       3.41666667 4.         4.66666667 3.58333333\n",
      " 3.5        3.75       3.91666667 4.75       4.08333333 1.66666667\n",
      " 2.66666667 3.25       1.91666667 2.08333333 4.41666667 1.83333333\n",
      " 3.83333333 3.58333333 3.91666667 2.66666667 4.33333333 3.33333333\n",
      " 3.66666667 4.66666667 1.75       4.58333333 3.16666667 3.41666667\n",
      " 2.33333333 2.91666667 4.16666667 2.83333333 2.58333333]\n",
      "\n",
      "agreeableness [4.41666667 4.91666667 3.33333333 4.5        4.58333333 3.83333333\n",
      " 3.25       4.         4.16666667 3.91666667 4.08333333 4.33333333\n",
      " 3.5        3.75       4.75       3.58333333 3.41666667 2.75\n",
      " 4.25       4.66666667 3.66666667 3.08333333 3.16666667 2.25\n",
      " 2.91666667 2.83333333 4.83333333 5.         3.         3.66666667\n",
      " 4.33333333 3.83333333 4.58333333 4.41666667 4.66666667 2.91666667\n",
      " 4.16666667 3.41666667 3.58333333 4.08333333 3.08333333 3.16666667\n",
      " 3.91666667 2.83333333 4.91666667 3.33333333 4.83333333]\n",
      "\n",
      "neuroticism [2.33333333 1.83333333 2.         2.83333333 2.16666667 1.66666667\n",
      " 3.         1.5        2.5        3.75       2.08333333 3.16666667\n",
      " 2.58333333 2.66666667 1.58333333 2.25       3.33333333 2.75\n",
      " 2.41666667 1.91666667 3.25       1.75       3.5        3.41666667\n",
      " 2.91666667 4.16666667 1.41666667 1.         1.25       1.08333333\n",
      " 3.83333333 3.66666667 3.58333333 1.33333333 1.16666667 3.08333333\n",
      " 4.58333333 4.         3.91666667 1.83333333 1.33333333 1.91666667\n",
      " 3.58333333 1.16666667 2.66666667 2.33333333 1.66666667 3.41666667\n",
      " 3.08333333 3.91666667 2.41666667 3.33333333 2.08333333 2.83333333\n",
      " 3.66666667 3.83333333 1.41666667 2.91666667 1.58333333 1.08333333\n",
      " 3.16666667]\n",
      "\n",
      "236\n"
     ]
    }
   ],
   "source": [
    "for col in cols:\n",
    "    print(col, demographics[col].unique())\n",
    "    print(\"\")\n",
    "    \n",
    "print(len(demographics))"
   ]
  },
  {
   "cell_type": "markdown",
   "metadata": {},
   "source": [
    "### Gender"
   ]
  },
  {
   "cell_type": "code",
   "execution_count": 83,
   "metadata": {},
   "outputs": [
    {
     "name": "stdout",
     "output_type": "stream",
     "text": [
      "Male      121\n",
      "Female    115\n",
      "Name: gender, dtype: int64\n"
     ]
    },
    {
     "data": {
      "image/png": "[encoded data removed]",
      "text/plain": [
       "<Figure size 2880x576 with 1 Axes>"
      ]
     },
     "metadata": {},
     "output_type": "display_data"
    }
   ],
   "source": [
    "plt.figure(figsize=(40,8))\n",
    "# plt.rcParams['axes.facecolor'] = 'white'\n",
    "setupMPPTufte()\n",
    "# beautifyPlot()\n",
    "demographics[\"gender\"].value_counts().plot.bar(color='#000000', width=0.95)\n",
    "print(demographics[\"gender\"].value_counts())\n",
    "plt.xticks([])\n",
    "plt.yticks([])\n",
    "plt.gca().spines['bottom'].set_visible(False)\n",
    "plt.gca().spines['left'].set_visible(False)\n",
    "plt.savefig(\"output/plots/spike_gender.pdf\", bbox_inches=\"tight\", transparent=True)\n",
    "plt.show()"
   ]
  },
  {
   "cell_type": "code",
   "execution_count": 112,
   "metadata": {},
   "outputs": [
    {
     "name": "stdout",
     "output_type": "stream",
     "text": [
      "Yes    218\n",
      "No      18\n",
      "Name: bornUS, dtype: int64\n"
     ]
    },
    {
     "data": {
      "image/png": "[encoded data removed]",
      "text/plain": [
       "<Figure size 2880x576 with 1 Axes>"
      ]
     },
     "metadata": {},
     "output_type": "display_data"
    }
   ],
   "source": [
    "plt.figure(figsize=(40,8))\n",
    "# plt.rcParams['axes.facecolor'] = 'white'\n",
    "setupMPPTufte()\n",
    "# beautifyPlot()\n",
    "demographics[\"bornUS\"].value_counts().plot.bar(color='#000000', width=0.95)\n",
    "print(demographics[\"bornUS\"].value_counts())\n",
    "plt.xticks([])\n",
    "plt.yticks([])\n",
    "plt.gca().spines['bottom'].set_visible(False)\n",
    "plt.gca().spines['left'].set_visible(False)\n",
    "plt.savefig(\"output/plots/spike_bornUS.pdf\", bbox_inches=\"tight\", transparent=True)\n",
    "plt.show()"
   ]
  },
  {
   "cell_type": "markdown",
   "metadata": {},
   "source": [
    "### Age"
   ]
  },
  {
   "cell_type": "code",
   "execution_count": 84,
   "metadata": {},
   "outputs": [
    {
     "data": {
      "text/plain": [
       "(22.0, 63.0, 36.57203389830509, 9.876638118636603)"
      ]
     },
     "execution_count": 84,
     "metadata": {},
     "output_type": "execute_result"
    }
   ],
   "source": [
    "demographics.age.min(), demographics.age.max(), demographics.age.mean(), demographics.age.std()"
   ]
  },
  {
   "cell_type": "code",
   "execution_count": 85,
   "metadata": {},
   "outputs": [
    {
     "data": {
      "image/png": "[encoded data removed]",
      "text/plain": [
       "<Figure size 2880x576 with 1 Axes>"
      ]
     },
     "metadata": {},
     "output_type": "display_data"
    }
   ],
   "source": [
    "plt.figure(figsize=(40,8))\n",
    "# plt.rcParams['axes.facecolor'] = 'white'\n",
    "setupMPPTufte()\n",
    "hist = np.histogram(demographics.age.dropna().values.astype('int'), bins=[i for i in range(20, 70, 4)])\n",
    "plt.bar(hist[1][:-1], hist[0], color=\"black\", width=3.8)\n",
    "plt.ylabel(\"\")\n",
    "plt.yticks([])\n",
    "plt.xticks([])\n",
    "plt.gca().spines['bottom'].set_visible(False)\n",
    "plt.gca().spines['left'].set_visible(False)\n",
    "# plt.xlim((20, 65))\n",
    "plt.savefig(\"output/plots/spike_age.pdf\", bbox_inches=\"tight\",  transparent=True)\n",
    "plt.show()"
   ]
  },
  {
   "cell_type": "markdown",
   "metadata": {},
   "source": [
    "### Income"
   ]
  },
  {
   "cell_type": "code",
   "execution_count": 86,
   "metadata": {},
   "outputs": [
    {
     "data": {
      "text/plain": [
       "39"
      ]
     },
     "execution_count": 86,
     "metadata": {},
     "output_type": "execute_result"
    }
   ],
   "source": [
    "demographics[\"income\"].value_counts()[\"$50,000 to $74,999\"]"
   ]
  },
  {
   "cell_type": "code",
   "execution_count": 87,
   "metadata": {},
   "outputs": [
    {
     "data": {
      "image/png": "[encoded data removed]",
      "text/plain": [
       "<Figure size 2880x576 with 1 Axes>"
      ]
     },
     "metadata": {},
     "output_type": "display_data"
    }
   ],
   "source": [
    "plt.figure(figsize=(40,8))\n",
    "# plt.rcParams['axes.facecolor'] = 'white'\n",
    "setupMPPTufte()\n",
    "y = demographics[\"income\"].value_counts()\n",
    "y['Less than $25,000'] = 0\n",
    "x = ['Less than $25,000', \n",
    "     '$25,000 to $49,999',\n",
    "     '$50,000 to $74,999',\n",
    "     '$75,000 to $99,999',\n",
    "     '$100,000 to $124,999',\n",
    "     '$125,000 to $150,000',\n",
    "     'More than $150,000']\n",
    "plt.bar(x, [y[i] for i in x], width=0.98, color=\"black\")\n",
    "plt.xticks([])\n",
    "plt.yticks([])\n",
    "plt.gca().spines['bottom'].set_visible(False)\n",
    "plt.gca().spines['left'].set_visible(False)\n",
    "plt.savefig(\"output/plots/spike_income.pdf\", bbox_inches=\"tight\", transparent=True)\n",
    "plt.show()"
   ]
  },
  {
   "cell_type": "markdown",
   "metadata": {},
   "source": [
    "### Education"
   ]
  },
  {
   "cell_type": "code",
   "execution_count": 88,
   "metadata": {},
   "outputs": [
    {
     "data": {
      "image/png": "[encoded data removed]",
      "text/plain": [
       "<Figure size 2880x576 with 1 Axes>"
      ]
     },
     "metadata": {},
     "output_type": "display_data"
    }
   ],
   "source": [
    "plt.figure(figsize=(40,8))\n",
    "# plt.rcParams['axes.facecolor'] = 'white'\n",
    "# beautifyPlot()\n",
    "setupMPPTufte()\n",
    "\n",
    "y = demographics[\"educ\"].value_counts()\n",
    "x = ['High school degree (or equivalent)',\n",
    "     'College degree',\n",
    "     'Some graduate school',\n",
    "     \"Master's degree\",\n",
    "     'Doctoral degree, such as PhD, MD, JD']\n",
    "plt.bar(x, [y[i] for i in x], width=0.98, color=\"black\")\n",
    "plt.xticks([])\n",
    "plt.yticks([])\n",
    "plt.gca().spines['bottom'].set_visible(False)\n",
    "plt.gca().spines['left'].set_visible(False)\n",
    "plt.savefig(\"output/plots/spike_education.pdf\", bbox_inches=\"tight\", transparent=True)\n",
    "plt.show()"
   ]
  },
  {
   "cell_type": "markdown",
   "metadata": {},
   "source": [
    "### Tenure"
   ]
  },
  {
   "cell_type": "code",
   "execution_count": 89,
   "metadata": {},
   "outputs": [
    {
     "data": {
      "image/png": "[encoded data removed]",
      "text/plain": [
       "<Figure size 2880x576 with 1 Axes>"
      ]
     },
     "metadata": {},
     "output_type": "display_data"
    }
   ],
   "source": [
    "plt.figure(figsize=(40,8))\n",
    "# plt.rcParams['axes.facecolor'] = 'white'\n",
    "setupMPPTufte()\n",
    "\n",
    "x = ['Less than a year',\n",
    "     '1 year',\n",
    "     '2 years',\n",
    "     '3 years',\n",
    "     '4 years',\n",
    "     '5 years',\n",
    "     '6 years',\n",
    "     '7 years',\n",
    "     '8 years',\n",
    "     'More than 8 years']\n",
    "y = demographics[\"duration (how long have you been with your employer)\"].value_counts()\n",
    "plt.bar(x, [y[i] for i in x], width=0.98, color=\"black\")\n",
    "plt.xticks([])\n",
    "plt.yticks([])\n",
    "plt.gca().spines['bottom'].set_visible(False)\n",
    "plt.gca().spines['left'].set_visible(False)\n",
    "plt.savefig(\"output/plots/spike_tenure.pdf\", bbox_inches=\"tight\", transparent=True)\n",
    "plt.show()"
   ]
  },
  {
   "cell_type": "markdown",
   "metadata": {},
   "source": [
    "### Supervise"
   ]
  },
  {
   "cell_type": "code",
   "execution_count": 90,
   "metadata": {},
   "outputs": [
    {
     "data": {
      "image/png": "[encoded data removed]",
      "text/plain": [
       "<Figure size 2880x576 with 1 Axes>"
      ]
     },
     "metadata": {},
     "output_type": "display_data"
    }
   ],
   "source": [
    "plt.figure(figsize=(40,8))\n",
    "# plt.rcParams['axes.facecolor'] = 'white'\n",
    "setupMPPTufte()\n",
    "\n",
    "demographics[\"supervise\"].value_counts().plot.bar(color='#000000', width=0.95)\n",
    "plt.xticks([])\n",
    "plt.yticks([])\n",
    "plt.gca().spines['bottom'].set_visible(False)\n",
    "plt.gca().spines['left'].set_visible(False)\n",
    "plt.savefig(\"output/plots/spike_supervise.pdf\", bbox_inches=\"tight\", transparent=True)\n",
    "plt.show()\n",
    "# NO YES"
   ]
  },
  {
   "cell_type": "markdown",
   "metadata": {},
   "source": [
    "### Shipley.Abs"
   ]
  },
  {
   "cell_type": "code",
   "execution_count": 91,
   "metadata": {},
   "outputs": [
    {
     "data": {
      "text/plain": [
       "(5.0, 24.0, 16.93220338983051, 2.9383127697582894)"
      ]
     },
     "execution_count": 91,
     "metadata": {},
     "output_type": "execute_result"
    }
   ],
   "source": [
    "demographics[\"shipley.abs\"].min(), demographics[\"shipley.abs\"].max(), demographics[\"shipley.abs\"].mean(), demographics[\"shipley.abs\"].std()"
   ]
  },
  {
   "cell_type": "code",
   "execution_count": 92,
   "metadata": {},
   "outputs": [
    {
     "data": {
      "image/png": "[encoded data removed]",
      "text/plain": [
       "<Figure size 2880x576 with 1 Axes>"
      ]
     },
     "metadata": {},
     "output_type": "display_data"
    }
   ],
   "source": [
    "plt.figure(figsize=(40,8))\n",
    "# plt.rcParams['axes.facecolor'] = 'white'\n",
    "setupMPPTufte()\n",
    "\n",
    "hist = np.histogram(demographics[\"shipley.abs\"].dropna().values.astype('int'), \n",
    "                    bins=[i for i in range(int(demographics[\"shipley.abs\"].min()), int(demographics[\"shipley.abs\"].max())+1, 2)])\n",
    "plt.bar(hist[1][:-1], hist[0], color=\"black\", width=1.9)\n",
    "plt.ylabel(\"\")\n",
    "plt.yticks([])\n",
    "plt.xticks([])\n",
    "plt.gca().spines['bottom'].set_visible(False)\n",
    "plt.gca().spines['left'].set_visible(False)\n",
    "# plt.xlim((20, 65))\n",
    "plt.savefig(\"output/plots/spike_shipley_abs.pdf\", bbox_inches=\"tight\", transparent=True)\n",
    "plt.show()"
   ]
  },
  {
   "cell_type": "markdown",
   "metadata": {},
   "source": [
    "### Shipley.Vocab"
   ]
  },
  {
   "cell_type": "code",
   "execution_count": 93,
   "metadata": {},
   "outputs": [
    {
     "data": {
      "text/plain": [
       "(22.0, 40.0, 33.70762711864407, 3.3177961611212363)"
      ]
     },
     "execution_count": 93,
     "metadata": {},
     "output_type": "execute_result"
    }
   ],
   "source": [
    "demographics[\"shipley.vocab\"].min(), demographics[\"shipley.vocab\"].max(), demographics[\"shipley.vocab\"].mean(), demographics[\"shipley.vocab\"].std()"
   ]
  },
  {
   "cell_type": "code",
   "execution_count": 94,
   "metadata": {},
   "outputs": [
    {
     "data": {
      "image/png": "[encoded data removed]",
      "text/plain": [
       "<Figure size 2880x576 with 1 Axes>"
      ]
     },
     "metadata": {},
     "output_type": "display_data"
    }
   ],
   "source": [
    "plt.figure(figsize=(40,8))\n",
    "# plt.rcParams['axes.facecolor'] = 'white'\n",
    "setupMPPTufte()\n",
    "\n",
    "hist = np.histogram(demographics[\"shipley.vocab\"].dropna().values.astype('int'), \n",
    "                    bins=[i for i in range(int(demographics[\"shipley.vocab\"].min()), int(demographics[\"shipley.vocab\"].max())+1, 2)])\n",
    "plt.bar(hist[1][:-1], hist[0], color=\"black\", width=1.8)\n",
    "plt.ylabel(\"\")\n",
    "plt.yticks([])\n",
    "plt.xticks([])\n",
    "plt.gca().spines['bottom'].set_visible(False)\n",
    "plt.gca().spines['left'].set_visible(False)\n",
    "# plt.xlim((20, 65))\n",
    "plt.savefig(\"output/plots/spike_shipley_vocab.pdf\", bbox_inches=\"tight\", transparent=True)\n",
    "plt.show()"
   ]
  },
  {
   "cell_type": "code",
   "execution_count": 95,
   "metadata": {},
   "outputs": [
    {
     "data": {
      "image/png": "[encoded data removed]",
      "text/plain": [
       "<Figure size 2880x576 with 1 Axes>"
      ]
     },
     "metadata": {},
     "output_type": "display_data"
    }
   ],
   "source": [
    "plt.figure(figsize=(40,8))\n",
    "# plt.rcParams['axes.facecolor'] = 'white'\n",
    "setupMPPTufte()\n",
    "\n",
    "hist = np.histogram(demographics[\"openness\"].dropna().values, \n",
    "                    bins=np.array([i for i in range(0, 60, 2)])/10)\n",
    "plt.bar(hist[1][:-1], hist[0], color=\"black\", width=0.19)\n",
    "plt.ylabel(\"\")\n",
    "plt.yticks([])\n",
    "plt.xticks([])\n",
    "plt.gca().spines['bottom'].set_visible(False)\n",
    "plt.gca().spines['left'].set_visible(False)\n",
    "plt.xlim((2, 5))\n",
    "plt.savefig(\"output/plots/spike_openness.pdf\", bbox_inches=\"tight\", transparent=True)\n",
    "plt.show()"
   ]
  },
  {
   "cell_type": "code",
   "execution_count": 96,
   "metadata": {},
   "outputs": [
    {
     "data": {
      "text/plain": [
       "(2.166666667, 5.0, 3.8481638418121467, 0.5903210005154342)"
      ]
     },
     "execution_count": 96,
     "metadata": {},
     "output_type": "execute_result"
    }
   ],
   "source": [
    "demographics[\"openness\"].min(), demographics[\"openness\"].max(), demographics[\"openness\"].mean(), demographics[\"openness\"].std()"
   ]
  },
  {
   "cell_type": "code",
   "execution_count": 97,
   "metadata": {},
   "outputs": [
    {
     "data": {
      "image/png": "[encoded data removed]",
      "text/plain": [
       "<Figure size 2880x576 with 1 Axes>"
      ]
     },
     "metadata": {},
     "output_type": "display_data"
    }
   ],
   "source": [
    "plt.figure(figsize=(40,8))\n",
    "# plt.rcParams['axes.facecolor'] = 'white'\n",
    "setupMPPTufte()\n",
    "\n",
    "hist = np.histogram(demographics[\"conscientiousness\"].dropna().values, \n",
    "                    bins=np.array([i for i in range(0, 60, 2)])/10)\n",
    "plt.bar(hist[1][:-1], hist[0], color=\"black\", width=0.19)\n",
    "plt.ylabel(\"\")\n",
    "plt.yticks([])\n",
    "plt.xticks([])\n",
    "plt.gca().spines['bottom'].set_visible(False)\n",
    "plt.gca().spines['left'].set_visible(False)\n",
    "plt.xlim((1.8, 5))\n",
    "plt.savefig(\"output/plots/spike_conscientiousness.pdf\", bbox_inches=\"tight\", transparent=True)\n",
    "plt.show()"
   ]
  },
  {
   "cell_type": "code",
   "execution_count": 98,
   "metadata": {},
   "outputs": [
    {
     "data": {
      "text/plain": [
       "(1.916666667, 5.0, 3.9357344632867233, 0.6293088836333491)"
      ]
     },
     "execution_count": 98,
     "metadata": {},
     "output_type": "execute_result"
    }
   ],
   "source": [
    "demographics[\"conscientiousness\"].min(), demographics[\"conscientiousness\"].max(), demographics[\"conscientiousness\"].mean(), demographics[\"conscientiousness\"].std()"
   ]
  },
  {
   "cell_type": "code",
   "execution_count": 99,
   "metadata": {},
   "outputs": [
    {
     "data": {
      "image/png": "[encoded data removed]",
      "text/plain": [
       "<Figure size 2880x576 with 1 Axes>"
      ]
     },
     "metadata": {},
     "output_type": "display_data"
    }
   ],
   "source": [
    "plt.figure(figsize=(40,8))\n",
    "# plt.rcParams['axes.facecolor'] = 'white'\n",
    "setupMPPTufte()\n",
    "\n",
    "hist = np.histogram(demographics[\"extraversion\"].dropna().values, \n",
    "                    bins=np.array([i for i in range(0, 60, 2)])/10)\n",
    "plt.bar(hist[1][:-1], hist[0], color=\"black\", width=0.19)\n",
    "plt.ylabel(\"\")\n",
    "plt.yticks([])\n",
    "plt.xticks([])\n",
    "plt.gca().spines['bottom'].set_visible(False)\n",
    "plt.gca().spines['left'].set_visible(False)\n",
    "plt.xlim((1.5, 5))\n",
    "plt.savefig(\"output/plots/spike_extraversion.pdf\", bbox_inches=\"tight\", transparent=True)\n",
    "plt.show()"
   ]
  },
  {
   "cell_type": "code",
   "execution_count": 100,
   "metadata": {},
   "outputs": [
    {
     "data": {
      "text/plain": [
       "(1.666666667, 4.916666667, 3.4170197740183617, 0.6802906607083739)"
      ]
     },
     "execution_count": 100,
     "metadata": {},
     "output_type": "execute_result"
    }
   ],
   "source": [
    "demographics[\"extraversion\"].min(), demographics[\"extraversion\"].max(), demographics[\"extraversion\"].mean(), demographics[\"extraversion\"].std()"
   ]
  },
  {
   "cell_type": "code",
   "execution_count": 101,
   "metadata": {},
   "outputs": [
    {
     "data": {
      "image/png": "[encoded data removed]",
      "text/plain": [
       "<Figure size 2880x576 with 1 Axes>"
      ]
     },
     "metadata": {},
     "output_type": "display_data"
    }
   ],
   "source": [
    "plt.figure(figsize=(40,8))\n",
    "# plt.rcParams['axes.facecolor'] = 'white'\n",
    "setupMPPTufte()\n",
    "\n",
    "hist = np.histogram(demographics[\"agreeableness\"].dropna().values, \n",
    "                    bins=np.array([i for i in range(0, 60, 2)])/10)\n",
    "plt.bar(hist[1][:-1], hist[0], color=\"black\", width=0.19)\n",
    "plt.ylabel(\"\")\n",
    "plt.yticks([])\n",
    "plt.xticks([])\n",
    "plt.gca().spines['bottom'].set_visible(False)\n",
    "plt.gca().spines['left'].set_visible(False)\n",
    "plt.xlim((2, 5))\n",
    "plt.savefig(\"output/plots/spike_agreeableness.pdf\", bbox_inches=\"tight\", transparent=True)\n",
    "plt.show()"
   ]
  },
  {
   "cell_type": "code",
   "execution_count": 102,
   "metadata": {},
   "outputs": [
    {
     "data": {
      "text/plain": [
       "(2.25, 5.0, 3.9502118644138418, 0.5470412160318396)"
      ]
     },
     "execution_count": 102,
     "metadata": {},
     "output_type": "execute_result"
    }
   ],
   "source": [
    "demographics[\"agreeableness\"].min(), demographics[\"agreeableness\"].max(), demographics[\"agreeableness\"].mean(), demographics[\"agreeableness\"].std()"
   ]
  },
  {
   "cell_type": "code",
   "execution_count": 103,
   "metadata": {},
   "outputs": [
    {
     "data": {
      "image/png": "[encoded data removed]",
      "text/plain": [
       "<Figure size 2880x576 with 1 Axes>"
      ]
     },
     "metadata": {},
     "output_type": "display_data"
    }
   ],
   "source": [
    "plt.figure(figsize=(40,8))\n",
    "# plt.rcParams['axes.facecolor'] = 'white'\n",
    "setupMPPTufte()\n",
    "\n",
    "hist = np.histogram(demographics[\"neuroticism\"].dropna().values, \n",
    "                    bins=np.array([i for i in range(0, 60, 2)])/10)\n",
    "plt.bar(hist[1][:-1], hist[0], color=\"black\", width=0.19)\n",
    "plt.ylabel(\"\")\n",
    "plt.yticks([])\n",
    "plt.xticks([])\n",
    "plt.gca().spines['bottom'].set_visible(False)\n",
    "plt.gca().spines['left'].set_visible(False)\n",
    "plt.xlim((0.8, 5))\n",
    "plt.savefig(\"output/plots/spike_neuroticism.pdf\", bbox_inches=\"tight\", transparent=True)\n",
    "plt.show()"
   ]
  },
  {
   "cell_type": "code",
   "execution_count": 104,
   "metadata": {},
   "outputs": [
    {
     "data": {
      "text/plain": [
       "(1.0, 4.583333333, 2.43785310735452, 0.7792512045649255, 236)"
      ]
     },
     "execution_count": 104,
     "metadata": {},
     "output_type": "execute_result"
    }
   ],
   "source": [
    "demographics[\"neuroticism\"].min(), demographics[\"neuroticism\"].max(), demographics[\"neuroticism\"].mean(), demographics[\"neuroticism\"].std(), len(demographics['neuroticism'])"
   ]
  },
  {
   "cell_type": "code",
   "execution_count": 105,
   "metadata": {},
   "outputs": [
    {
     "data": {
      "text/plain": [
       "(13.0, 49.0, 34.23728813559322, 5.699836453199366)"
      ]
     },
     "execution_count": 105,
     "metadata": {},
     "output_type": "execute_result"
    }
   ],
   "source": [
    "demographics[\"pos.affect\"].min(), demographics[\"pos.affect\"].max(), demographics[\"pos.affect\"].mean(), demographics[\"pos.affect\"].std()"
   ]
  },
  {
   "cell_type": "code",
   "execution_count": 106,
   "metadata": {},
   "outputs": [
    {
     "data": {
      "image/png": "[encoded data removed]",
      "text/plain": [
       "<Figure size 2880x576 with 1 Axes>"
      ]
     },
     "metadata": {},
     "output_type": "display_data"
    }
   ],
   "source": [
    "plt.figure(figsize=(40,8))\n",
    "# plt.rcParams['axes.facecolor'] = 'white'\n",
    "setupMPPTufte()\n",
    "\n",
    "hist = np.histogram(demographics[\"pos.affect\"].dropna().values, \n",
    "                    bins=np.array([i for i in range(0, 60, 10)])/1.0)\n",
    "plt.bar(hist[1][:-1], hist[0], color=\"black\", width=9.8)\n",
    "plt.ylabel(\"\")\n",
    "plt.yticks([])\n",
    "plt.xticks([])\n",
    "plt.gca().spines['bottom'].set_visible(False)\n",
    "plt.gca().spines['left'].set_visible(False)\n",
    "plt.xlim((0, 50))\n",
    "plt.savefig(\"output/plots/spike_pos_affect.pdf\", bbox_inches=\"tight\", transparent=True)\n",
    "plt.show()"
   ]
  },
  {
   "cell_type": "code",
   "execution_count": 107,
   "metadata": {},
   "outputs": [
    {
     "data": {
      "text/plain": [
       "(10.0, 37.0, 16.826271186440678, 4.6236566162365875)"
      ]
     },
     "execution_count": 107,
     "metadata": {},
     "output_type": "execute_result"
    }
   ],
   "source": [
    "demographics[\"neg.affect\"].min(), demographics[\"neg.affect\"].max(), demographics[\"neg.affect\"].mean(), demographics[\"neg.affect\"].std()"
   ]
  },
  {
   "cell_type": "code",
   "execution_count": 108,
   "metadata": {},
   "outputs": [
    {
     "data": {
      "image/png": "[encoded data removed]",
      "text/plain": [
       "<Figure size 2880x576 with 1 Axes>"
      ]
     },
     "metadata": {},
     "output_type": "display_data"
    }
   ],
   "source": [
    "plt.figure(figsize=(40,8))\n",
    "# plt.rcParams['axes.facecolor'] = 'white'\n",
    "setupMPPTufte()\n",
    "\n",
    "hist = np.histogram(demographics[\"neg.affect\"].dropna().values, \n",
    "                    bins=np.array([i for i in range(0, 60, 10)])/1.0)\n",
    "plt.bar(hist[1][:-1], hist[0], color=\"black\", width=9.8)\n",
    "plt.ylabel(\"\")\n",
    "plt.yticks([])\n",
    "plt.xticks([])\n",
    "plt.gca().spines['bottom'].set_visible(False)\n",
    "plt.gca().spines['left'].set_visible(False)\n",
    "plt.xlim((0, 50))\n",
    "plt.savefig(\"output/plots/spike_neg_affect.pdf\", bbox_inches=\"tight\", transparent=True)\n",
    "plt.show()"
   ]
  },
  {
   "cell_type": "code",
   "execution_count": 109,
   "metadata": {},
   "outputs": [
    {
     "data": {
      "image/png": "[encoded data removed]",
      "text/plain": [
       "<Figure size 2880x576 with 1 Axes>"
      ]
     },
     "metadata": {},
     "output_type": "display_data"
    }
   ],
   "source": [
    "plt.figure(figsize=(40,8))\n",
    "# plt.rcParams['axes.facecolor'] = 'white'\n",
    "setupMPPTufte()\n",
    "\n",
    "hist = np.histogram(demographics[\"psqi\"].dropna().values, \n",
    "                    bins=np.array([i for i in range(0, 20, 1)])/1.0)\n",
    "plt.bar(hist[1][:-1], hist[0], color=\"black\", width=0.9)\n",
    "plt.ylabel(\"\")\n",
    "plt.yticks([])\n",
    "plt.xticks([])\n",
    "plt.gca().spines['bottom'].set_visible(False)\n",
    "plt.gca().spines['left'].set_visible(False)\n",
    "plt.xlim((1, 15))\n",
    "plt.savefig(\"output/plots/spike_psqi.pdf\", bbox_inches=\"tight\", transparent=True)\n",
    "plt.show()"
   ]
  },
  {
   "cell_type": "code",
   "execution_count": 110,
   "metadata": {},
   "outputs": [
    {
     "data": {
      "image/png": "[encoded data removed]",
      "text/plain": [
       "<Figure size 2880x576 with 1 Axes>"
      ]
     },
     "metadata": {},
     "output_type": "display_data"
    }
   ],
   "source": [
    "plt.figure(figsize=(40,8))\n",
    "# plt.rcParams['axes.facecolor'] = 'white'\n",
    "setupMPPTufte()\n",
    "\n",
    "hist = np.histogram(demographics[\"stai.trait\"].dropna().values, \n",
    "                    bins=np.array([i for i in range(20, 80, 3)])/1.0)\n",
    "plt.bar(hist[1][:-1], hist[0], color=\"black\", width=2.8)\n",
    "plt.ylabel(\"\")\n",
    "plt.yticks([])\n",
    "plt.xticks([])\n",
    "plt.gca().spines['bottom'].set_visible(False)\n",
    "plt.gca().spines['left'].set_visible(False)\n",
    "plt.xlim((20, 80))\n",
    "plt.savefig(\"output/plots/spike_stai_trait.pdf\", bbox_inches=\"tight\", transparent=True)\n",
    "plt.show()"
   ]
  },
  {
   "cell_type": "code",
   "execution_count": 111,
   "metadata": {},
   "outputs": [
    {
     "name": "stdout",
     "output_type": "stream",
     "text": [
      "stai.trait 20.0 67.0 37.83050847457627 9.325147957067731\n",
      "psqi 1.0 16.0 6.804255319148936 2.57452654736372\n"
     ]
    }
   ],
   "source": [
    "for variable in [\"stai.trait\", \"psqi\"]:\n",
    "    print(variable, demographics[variable].min(), demographics[variable].max(), demographics[variable].mean(), demographics[variable].std())"
   ]
  },
  {
   "cell_type": "code",
   "execution_count": null,
   "metadata": {},
   "outputs": [],
   "source": []
  }
 ],
 "metadata": {
  "kernelspec": {
   "display_name": "Python 3",
   "language": "python",
   "name": "python3"
  },
  "language_info": {
   "codemirror_mode": {
    "name": "ipython",
    "version": 3
   },
   "file_extension": ".py",
   "mimetype": "text/x-python",
   "name": "python",
   "nbconvert_exporter": "python",
   "pygments_lexer": "ipython3",
   "version": "3.6.9"
  }
 },
 "nbformat": 4,
 "nbformat_minor": 2
}
